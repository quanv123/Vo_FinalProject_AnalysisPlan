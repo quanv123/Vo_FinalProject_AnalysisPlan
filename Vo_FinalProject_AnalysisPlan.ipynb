{
 "cells": [
  {
   "cell_type": "code",
   "execution_count": 46,
   "id": "1b657f77",
   "metadata": {},
   "outputs": [],
   "source": [
    "import pandas as pd\n",
    "import json\n",
    "import numpy as np\n",
    "from matplotlib import pyplot as plt\n",
    "from scipy import stats\n",
    "import base64\n",
    "import requests\n",
    "import random"
   ]
  },
  {
   "cell_type": "markdown",
   "id": "9edd2fab",
   "metadata": {},
   "source": [
    "##### *(Analysis plan is halfway down the page)*\n",
    "# Data In Hand"
   ]
  },
  {
   "cell_type": "markdown",
   "id": "09504d6d",
   "metadata": {},
   "source": [
    "So Steam has their own [web API](https://steamcommunity.com/dev) that I can use to access the data of my Steam profile. The first steps I needed to take was to find my Steam ID as well as obtain a Steam API key. My Steam ID is a 17-digit number that's located in the URL of my profile. As for the Steam API key, I needed to fill out a form on the Steam website in order to obtain a key. All it asked was to create a domain name and agree with the terms of use, then it would give me my own API key. Once I have both my key and my ID, I'll put them in a text file, and then read the contents of that text file using different variables."
   ]
  },
  {
   "cell_type": "code",
   "execution_count": 47,
   "id": "5032ca25",
   "metadata": {},
   "outputs": [],
   "source": [
    "keys = pd.read_csv(\"Steam-Keys.txt\", header = 0, sep = \",\")"
   ]
  },
  {
   "cell_type": "code",
   "execution_count": 48,
   "id": "60f401c2",
   "metadata": {},
   "outputs": [],
   "source": [
    "steamApiKey = keys['Steam_Key'][0]\n",
    "steamID = keys['Steam_ID'][0]"
   ]
  },
  {
   "cell_type": "markdown",
   "id": "118ea216",
   "metadata": {},
   "source": [
    "The next thing I needed to do was to find a Steam API link and then format that link. What I found was the [GetOwnedGames](https://developer.valvesoftware.com/wiki/Steam_Web_API#GetOwnedGames_.28v0001.29) method which will allow me to retrieve the list of games in my library. I'll use the given URL to initialize 'slink1' while also inserting my Steam ID and my API key in the url."
   ]
  },
  {
   "cell_type": "code",
   "execution_count": 49,
   "id": "1eab9f08",
   "metadata": {},
   "outputs": [],
   "source": [
    "slink1 = 'http://api.steampowered.com/IPlayerService/GetOwnedGames/v0001/?key=' + str(steamApiKey) + '&steamid=' + str(steamID) + '&format=json'\n",
    "slink2 = \"&steamid=\" + str(steamID) + \"&include_appinfo=1&format=json\"\n",
    "slink = slink1 + steamApiKey + slink2"
   ]
  },
  {
   "cell_type": "markdown",
   "id": "08519119",
   "metadata": {},
   "source": [
    "After defining my 'slink' variables, I'll make a variable called 'r' and use the requests.get() method to retrieve the data from 'slink.' Then I will convert the data from 'r' into a JSON so that I would be able to make my data frames."
   ]
  },
  {
   "cell_type": "code",
   "execution_count": 50,
   "id": "ac6b4eb9",
   "metadata": {},
   "outputs": [],
   "source": [
    "r = requests.get(slink)\n",
    "steam = r.json()\n",
    "#steam"
   ]
  },
  {
   "cell_type": "markdown",
   "id": "d81e9a08",
   "metadata": {},
   "source": [
    "Everything in the JSON is nested inside the 'response' title, so the default data frame will just use 'response' as a column and only display 'game_count' and 'games.' I need to take some steps to format the data frame to get the information I need."
   ]
  },
  {
   "cell_type": "code",
   "execution_count": 51,
   "id": "b4198d33",
   "metadata": {},
   "outputs": [
    {
     "data": {
      "text/html": [
       "<div>\n",
       "<style scoped>\n",
       "    .dataframe tbody tr th:only-of-type {\n",
       "        vertical-align: middle;\n",
       "    }\n",
       "\n",
       "    .dataframe tbody tr th {\n",
       "        vertical-align: top;\n",
       "    }\n",
       "\n",
       "    .dataframe thead th {\n",
       "        text-align: right;\n",
       "    }\n",
       "</style>\n",
       "<table border=\"1\" class=\"dataframe\">\n",
       "  <thead>\n",
       "    <tr style=\"text-align: right;\">\n",
       "      <th></th>\n",
       "      <th>response</th>\n",
       "    </tr>\n",
       "  </thead>\n",
       "  <tbody>\n",
       "    <tr>\n",
       "      <th>game_count</th>\n",
       "      <td>86</td>\n",
       "    </tr>\n",
       "    <tr>\n",
       "      <th>games</th>\n",
       "      <td>[{'appid': 50, 'name': 'Half-Life: Opposing Fo...</td>\n",
       "    </tr>\n",
       "  </tbody>\n",
       "</table>\n",
       "</div>"
      ],
      "text/plain": [
       "                                                     response\n",
       "game_count                                                 86\n",
       "games       [{'appid': 50, 'name': 'Half-Life: Opposing Fo..."
      ]
     },
     "execution_count": 51,
     "metadata": {},
     "output_type": "execute_result"
    }
   ],
   "source": [
    "pd.DataFrame(steam)"
   ]
  },
  {
   "cell_type": "markdown",
   "id": "d829f4f1",
   "metadata": {},
   "source": [
    "Putting ['response'] inside the parenthesis will separate 'game_count' and 'games' into their own column. As of right now, the only valuable information I have in this data frame is that it tells me that I have 86 games in my Steam library. What I want now is to display everything from the 'games' in their own data frame and separate each category into their own column."
   ]
  },
  {
   "cell_type": "code",
   "execution_count": 52,
   "id": "8e556c25",
   "metadata": {},
   "outputs": [
    {
     "data": {
      "text/html": [
       "<div>\n",
       "<style scoped>\n",
       "    .dataframe tbody tr th:only-of-type {\n",
       "        vertical-align: middle;\n",
       "    }\n",
       "\n",
       "    .dataframe tbody tr th {\n",
       "        vertical-align: top;\n",
       "    }\n",
       "\n",
       "    .dataframe thead th {\n",
       "        text-align: right;\n",
       "    }\n",
       "</style>\n",
       "<table border=\"1\" class=\"dataframe\">\n",
       "  <thead>\n",
       "    <tr style=\"text-align: right;\">\n",
       "      <th></th>\n",
       "      <th>game_count</th>\n",
       "      <th>games</th>\n",
       "    </tr>\n",
       "  </thead>\n",
       "  <tbody>\n",
       "    <tr>\n",
       "      <th>0</th>\n",
       "      <td>86</td>\n",
       "      <td>{'appid': 50, 'name': 'Half-Life: Opposing For...</td>\n",
       "    </tr>\n",
       "    <tr>\n",
       "      <th>1</th>\n",
       "      <td>86</td>\n",
       "      <td>{'appid': 70, 'name': 'Half-Life', 'playtime_f...</td>\n",
       "    </tr>\n",
       "    <tr>\n",
       "      <th>2</th>\n",
       "      <td>86</td>\n",
       "      <td>{'appid': 130, 'name': 'Half-Life: Blue Shift'...</td>\n",
       "    </tr>\n",
       "    <tr>\n",
       "      <th>3</th>\n",
       "      <td>86</td>\n",
       "      <td>{'appid': 3830, 'name': 'Psychonauts', 'playti...</td>\n",
       "    </tr>\n",
       "    <tr>\n",
       "      <th>4</th>\n",
       "      <td>86</td>\n",
       "      <td>{'appid': 6910, 'name': 'Deus Ex: Game of the ...</td>\n",
       "    </tr>\n",
       "    <tr>\n",
       "      <th>...</th>\n",
       "      <td>...</td>\n",
       "      <td>...</td>\n",
       "    </tr>\n",
       "    <tr>\n",
       "      <th>81</th>\n",
       "      <td>86</td>\n",
       "      <td>{'appid': 1178880, 'name': 'Panzer Dragoon: Re...</td>\n",
       "    </tr>\n",
       "    <tr>\n",
       "      <th>82</th>\n",
       "      <td>86</td>\n",
       "      <td>{'appid': 966720, 'name': 'Pumped BMX Pro', 'p...</td>\n",
       "    </tr>\n",
       "    <tr>\n",
       "      <th>83</th>\n",
       "      <td>86</td>\n",
       "      <td>{'appid': 231430, 'name': 'Company of Heroes 2...</td>\n",
       "    </tr>\n",
       "    <tr>\n",
       "      <th>84</th>\n",
       "      <td>86</td>\n",
       "      <td>{'appid': 1818750, 'name': 'MultiVersus', 'pla...</td>\n",
       "    </tr>\n",
       "    <tr>\n",
       "      <th>85</th>\n",
       "      <td>86</td>\n",
       "      <td>{'appid': 1301210, 'name': 'Knockout City™', '...</td>\n",
       "    </tr>\n",
       "  </tbody>\n",
       "</table>\n",
       "<p>86 rows × 2 columns</p>\n",
       "</div>"
      ],
      "text/plain": [
       "    game_count                                              games\n",
       "0           86  {'appid': 50, 'name': 'Half-Life: Opposing For...\n",
       "1           86  {'appid': 70, 'name': 'Half-Life', 'playtime_f...\n",
       "2           86  {'appid': 130, 'name': 'Half-Life: Blue Shift'...\n",
       "3           86  {'appid': 3830, 'name': 'Psychonauts', 'playti...\n",
       "4           86  {'appid': 6910, 'name': 'Deus Ex: Game of the ...\n",
       "..         ...                                                ...\n",
       "81          86  {'appid': 1178880, 'name': 'Panzer Dragoon: Re...\n",
       "82          86  {'appid': 966720, 'name': 'Pumped BMX Pro', 'p...\n",
       "83          86  {'appid': 231430, 'name': 'Company of Heroes 2...\n",
       "84          86  {'appid': 1818750, 'name': 'MultiVersus', 'pla...\n",
       "85          86  {'appid': 1301210, 'name': 'Knockout City™', '...\n",
       "\n",
       "[86 rows x 2 columns]"
      ]
     },
     "execution_count": 52,
     "metadata": {},
     "output_type": "execute_result"
    }
   ],
   "source": [
    "steam_df = pd.DataFrame(steam['response'])\n",
    "steam_df"
   ]
  },
  {
   "cell_type": "code",
   "execution_count": 53,
   "id": "0ba3415f",
   "metadata": {},
   "outputs": [
    {
     "data": {
      "text/plain": [
       "0     {'appid': 50, 'name': 'Half-Life: Opposing For...\n",
       "1     {'appid': 70, 'name': 'Half-Life', 'playtime_f...\n",
       "2     {'appid': 130, 'name': 'Half-Life: Blue Shift'...\n",
       "3     {'appid': 3830, 'name': 'Psychonauts', 'playti...\n",
       "4     {'appid': 6910, 'name': 'Deus Ex: Game of the ...\n",
       "                            ...                        \n",
       "81    {'appid': 1178880, 'name': 'Panzer Dragoon: Re...\n",
       "82    {'appid': 966720, 'name': 'Pumped BMX Pro', 'p...\n",
       "83    {'appid': 231430, 'name': 'Company of Heroes 2...\n",
       "84    {'appid': 1818750, 'name': 'MultiVersus', 'pla...\n",
       "85    {'appid': 1301210, 'name': 'Knockout City™', '...\n",
       "Name: games, Length: 86, dtype: object"
      ]
     },
     "execution_count": 53,
     "metadata": {},
     "output_type": "execute_result"
    }
   ],
   "source": [
    "steam_df['games']"
   ]
  },
  {
   "cell_type": "markdown",
   "id": "505a6a79",
   "metadata": {},
   "source": [
    "If I use the \"list()\" function and put \"steam_df['games']\" inside the parenthesis, it will create a data frame that lists all the information from 'games,' with every category separated into their own columns. This data frame lists every game that I own as well as the play time for each game. Now I have the data I need in order to find out how many games I've played in my library and how many I still haven't played."
   ]
  },
  {
   "cell_type": "code",
   "execution_count": 54,
   "id": "c93346f9",
   "metadata": {
    "scrolled": false
   },
   "outputs": [
    {
     "data": {
      "text/html": [
       "<div>\n",
       "<style scoped>\n",
       "    .dataframe tbody tr th:only-of-type {\n",
       "        vertical-align: middle;\n",
       "    }\n",
       "\n",
       "    .dataframe tbody tr th {\n",
       "        vertical-align: top;\n",
       "    }\n",
       "\n",
       "    .dataframe thead th {\n",
       "        text-align: right;\n",
       "    }\n",
       "</style>\n",
       "<table border=\"1\" class=\"dataframe\">\n",
       "  <thead>\n",
       "    <tr style=\"text-align: right;\">\n",
       "      <th></th>\n",
       "      <th>appid</th>\n",
       "      <th>name</th>\n",
       "      <th>playtime_forever</th>\n",
       "      <th>img_icon_url</th>\n",
       "      <th>playtime_windows_forever</th>\n",
       "      <th>playtime_mac_forever</th>\n",
       "      <th>playtime_linux_forever</th>\n",
       "      <th>rtime_last_played</th>\n",
       "      <th>has_community_visible_stats</th>\n",
       "      <th>has_leaderboards</th>\n",
       "      <th>playtime_2weeks</th>\n",
       "    </tr>\n",
       "  </thead>\n",
       "  <tbody>\n",
       "    <tr>\n",
       "      <th>0</th>\n",
       "      <td>50</td>\n",
       "      <td>Half-Life: Opposing Force</td>\n",
       "      <td>470</td>\n",
       "      <td>04e81206c10e12416908c72c5f22aad411b3aeef</td>\n",
       "      <td>0</td>\n",
       "      <td>0</td>\n",
       "      <td>0</td>\n",
       "      <td>1515201732</td>\n",
       "      <td>NaN</td>\n",
       "      <td>NaN</td>\n",
       "      <td>NaN</td>\n",
       "    </tr>\n",
       "    <tr>\n",
       "      <th>1</th>\n",
       "      <td>70</td>\n",
       "      <td>Half-Life</td>\n",
       "      <td>1401</td>\n",
       "      <td>95be6d131fc61f145797317ca437c9765f24b41c</td>\n",
       "      <td>0</td>\n",
       "      <td>0</td>\n",
       "      <td>0</td>\n",
       "      <td>1515103702</td>\n",
       "      <td>NaN</td>\n",
       "      <td>NaN</td>\n",
       "      <td>NaN</td>\n",
       "    </tr>\n",
       "    <tr>\n",
       "      <th>2</th>\n",
       "      <td>130</td>\n",
       "      <td>Half-Life: Blue Shift</td>\n",
       "      <td>233</td>\n",
       "      <td>b06fdee488b3220362c11704be4edad82abeed08</td>\n",
       "      <td>0</td>\n",
       "      <td>0</td>\n",
       "      <td>0</td>\n",
       "      <td>1515301292</td>\n",
       "      <td>NaN</td>\n",
       "      <td>NaN</td>\n",
       "      <td>NaN</td>\n",
       "    </tr>\n",
       "    <tr>\n",
       "      <th>3</th>\n",
       "      <td>3830</td>\n",
       "      <td>Psychonauts</td>\n",
       "      <td>1688</td>\n",
       "      <td>460b6471db7d83ee6943c1a87f7a9f2898634952</td>\n",
       "      <td>0</td>\n",
       "      <td>0</td>\n",
       "      <td>0</td>\n",
       "      <td>1520911660</td>\n",
       "      <td>True</td>\n",
       "      <td>NaN</td>\n",
       "      <td>NaN</td>\n",
       "    </tr>\n",
       "    <tr>\n",
       "      <th>4</th>\n",
       "      <td>6910</td>\n",
       "      <td>Deus Ex: Game of the Year Edition</td>\n",
       "      <td>0</td>\n",
       "      <td>03c8e5e89d83c536b44798e77ead5d813103991f</td>\n",
       "      <td>0</td>\n",
       "      <td>0</td>\n",
       "      <td>0</td>\n",
       "      <td>0</td>\n",
       "      <td>NaN</td>\n",
       "      <td>NaN</td>\n",
       "      <td>NaN</td>\n",
       "    </tr>\n",
       "    <tr>\n",
       "      <th>...</th>\n",
       "      <td>...</td>\n",
       "      <td>...</td>\n",
       "      <td>...</td>\n",
       "      <td>...</td>\n",
       "      <td>...</td>\n",
       "      <td>...</td>\n",
       "      <td>...</td>\n",
       "      <td>...</td>\n",
       "      <td>...</td>\n",
       "      <td>...</td>\n",
       "      <td>...</td>\n",
       "    </tr>\n",
       "    <tr>\n",
       "      <th>81</th>\n",
       "      <td>1178880</td>\n",
       "      <td>Panzer Dragoon: Remake</td>\n",
       "      <td>0</td>\n",
       "      <td>d00adb1a1a70663380eaa17a0835a9cf5931f23c</td>\n",
       "      <td>0</td>\n",
       "      <td>0</td>\n",
       "      <td>0</td>\n",
       "      <td>0</td>\n",
       "      <td>True</td>\n",
       "      <td>True</td>\n",
       "      <td>NaN</td>\n",
       "    </tr>\n",
       "    <tr>\n",
       "      <th>82</th>\n",
       "      <td>966720</td>\n",
       "      <td>Pumped BMX Pro</td>\n",
       "      <td>0</td>\n",
       "      <td>43013764d179d58f2bb2b6be317e67b715e252f7</td>\n",
       "      <td>0</td>\n",
       "      <td>0</td>\n",
       "      <td>0</td>\n",
       "      <td>0</td>\n",
       "      <td>True</td>\n",
       "      <td>NaN</td>\n",
       "      <td>NaN</td>\n",
       "    </tr>\n",
       "    <tr>\n",
       "      <th>83</th>\n",
       "      <td>231430</td>\n",
       "      <td>Company of Heroes 2</td>\n",
       "      <td>0</td>\n",
       "      <td>5e7e1866fb4f33a17393b0441cd1c750dbd91c5f</td>\n",
       "      <td>0</td>\n",
       "      <td>0</td>\n",
       "      <td>0</td>\n",
       "      <td>0</td>\n",
       "      <td>True</td>\n",
       "      <td>NaN</td>\n",
       "      <td>NaN</td>\n",
       "    </tr>\n",
       "    <tr>\n",
       "      <th>84</th>\n",
       "      <td>1818750</td>\n",
       "      <td>MultiVersus</td>\n",
       "      <td>197</td>\n",
       "      <td>b99e0727d4b37c022f33f8f72fada74c5108aac0</td>\n",
       "      <td>197</td>\n",
       "      <td>0</td>\n",
       "      <td>0</td>\n",
       "      <td>1661661046</td>\n",
       "      <td>True</td>\n",
       "      <td>NaN</td>\n",
       "      <td>NaN</td>\n",
       "    </tr>\n",
       "    <tr>\n",
       "      <th>85</th>\n",
       "      <td>1301210</td>\n",
       "      <td>Knockout City™</td>\n",
       "      <td>0</td>\n",
       "      <td>ef67468ea82f62c33d46189e13b7493e189c8878</td>\n",
       "      <td>0</td>\n",
       "      <td>0</td>\n",
       "      <td>0</td>\n",
       "      <td>0</td>\n",
       "      <td>True</td>\n",
       "      <td>NaN</td>\n",
       "      <td>NaN</td>\n",
       "    </tr>\n",
       "  </tbody>\n",
       "</table>\n",
       "<p>86 rows × 11 columns</p>\n",
       "</div>"
      ],
      "text/plain": [
       "      appid                               name  playtime_forever  \\\n",
       "0        50          Half-Life: Opposing Force               470   \n",
       "1        70                          Half-Life              1401   \n",
       "2       130              Half-Life: Blue Shift               233   \n",
       "3      3830                        Psychonauts              1688   \n",
       "4      6910  Deus Ex: Game of the Year Edition                 0   \n",
       "..      ...                                ...               ...   \n",
       "81  1178880             Panzer Dragoon: Remake                 0   \n",
       "82   966720                     Pumped BMX Pro                 0   \n",
       "83   231430                Company of Heroes 2                 0   \n",
       "84  1818750                        MultiVersus               197   \n",
       "85  1301210                     Knockout City™                 0   \n",
       "\n",
       "                                img_icon_url  playtime_windows_forever  \\\n",
       "0   04e81206c10e12416908c72c5f22aad411b3aeef                         0   \n",
       "1   95be6d131fc61f145797317ca437c9765f24b41c                         0   \n",
       "2   b06fdee488b3220362c11704be4edad82abeed08                         0   \n",
       "3   460b6471db7d83ee6943c1a87f7a9f2898634952                         0   \n",
       "4   03c8e5e89d83c536b44798e77ead5d813103991f                         0   \n",
       "..                                       ...                       ...   \n",
       "81  d00adb1a1a70663380eaa17a0835a9cf5931f23c                         0   \n",
       "82  43013764d179d58f2bb2b6be317e67b715e252f7                         0   \n",
       "83  5e7e1866fb4f33a17393b0441cd1c750dbd91c5f                         0   \n",
       "84  b99e0727d4b37c022f33f8f72fada74c5108aac0                       197   \n",
       "85  ef67468ea82f62c33d46189e13b7493e189c8878                         0   \n",
       "\n",
       "    playtime_mac_forever  playtime_linux_forever  rtime_last_played  \\\n",
       "0                      0                       0         1515201732   \n",
       "1                      0                       0         1515103702   \n",
       "2                      0                       0         1515301292   \n",
       "3                      0                       0         1520911660   \n",
       "4                      0                       0                  0   \n",
       "..                   ...                     ...                ...   \n",
       "81                     0                       0                  0   \n",
       "82                     0                       0                  0   \n",
       "83                     0                       0                  0   \n",
       "84                     0                       0         1661661046   \n",
       "85                     0                       0                  0   \n",
       "\n",
       "   has_community_visible_stats has_leaderboards  playtime_2weeks  \n",
       "0                          NaN              NaN              NaN  \n",
       "1                          NaN              NaN              NaN  \n",
       "2                          NaN              NaN              NaN  \n",
       "3                         True              NaN              NaN  \n",
       "4                          NaN              NaN              NaN  \n",
       "..                         ...              ...              ...  \n",
       "81                        True             True              NaN  \n",
       "82                        True              NaN              NaN  \n",
       "83                        True              NaN              NaN  \n",
       "84                        True              NaN              NaN  \n",
       "85                        True              NaN              NaN  \n",
       "\n",
       "[86 rows x 11 columns]"
      ]
     },
     "execution_count": 54,
     "metadata": {},
     "output_type": "execute_result"
    }
   ],
   "source": [
    "games = pd.DataFrame(list(steam_df['games']))\n",
    "games"
   ]
  },
  {
   "cell_type": "markdown",
   "id": "9bc1e829",
   "metadata": {},
   "source": [
    "# Analysis Plan"
   ]
  },
  {
   "cell_type": "markdown",
   "id": "7b3b6bda",
   "metadata": {},
   "source": [
    "I think most of the columns in my data frame aren't necessary to come up with a conclusion for my report, so I decided to remake the data frame by removing every column except for 'name' and 'playtime_forever.'"
   ]
  },
  {
   "cell_type": "code",
   "execution_count": 55,
   "id": "618a152e",
   "metadata": {},
   "outputs": [
    {
     "data": {
      "text/html": [
       "<div>\n",
       "<style scoped>\n",
       "    .dataframe tbody tr th:only-of-type {\n",
       "        vertical-align: middle;\n",
       "    }\n",
       "\n",
       "    .dataframe tbody tr th {\n",
       "        vertical-align: top;\n",
       "    }\n",
       "\n",
       "    .dataframe thead th {\n",
       "        text-align: right;\n",
       "    }\n",
       "</style>\n",
       "<table border=\"1\" class=\"dataframe\">\n",
       "  <thead>\n",
       "    <tr style=\"text-align: right;\">\n",
       "      <th></th>\n",
       "      <th>name</th>\n",
       "      <th>playtime_forever</th>\n",
       "    </tr>\n",
       "  </thead>\n",
       "  <tbody>\n",
       "    <tr>\n",
       "      <th>20</th>\n",
       "      <td>Terraria</td>\n",
       "      <td>12234</td>\n",
       "    </tr>\n",
       "    <tr>\n",
       "      <th>64</th>\n",
       "      <td>Celeste</td>\n",
       "      <td>3202</td>\n",
       "    </tr>\n",
       "    <tr>\n",
       "      <th>34</th>\n",
       "      <td>Knytt Underground</td>\n",
       "      <td>2310</td>\n",
       "    </tr>\n",
       "    <tr>\n",
       "      <th>58</th>\n",
       "      <td>System Shock: Enhanced Edition</td>\n",
       "      <td>1695</td>\n",
       "    </tr>\n",
       "    <tr>\n",
       "      <th>3</th>\n",
       "      <td>Psychonauts</td>\n",
       "      <td>1688</td>\n",
       "    </tr>\n",
       "    <tr>\n",
       "      <th>...</th>\n",
       "      <td>...</td>\n",
       "      <td>...</td>\n",
       "    </tr>\n",
       "    <tr>\n",
       "      <th>50</th>\n",
       "      <td>Devil May Cry 4 Special Edition</td>\n",
       "      <td>0</td>\n",
       "    </tr>\n",
       "    <tr>\n",
       "      <th>51</th>\n",
       "      <td>Firewatch</td>\n",
       "      <td>0</td>\n",
       "    </tr>\n",
       "    <tr>\n",
       "      <th>52</th>\n",
       "      <td>Ori and the Blind Forest</td>\n",
       "      <td>0</td>\n",
       "    </tr>\n",
       "    <tr>\n",
       "      <th>53</th>\n",
       "      <td>Ori and the Blind Forest: Definitive Edition</td>\n",
       "      <td>0</td>\n",
       "    </tr>\n",
       "    <tr>\n",
       "      <th>85</th>\n",
       "      <td>Knockout City™</td>\n",
       "      <td>0</td>\n",
       "    </tr>\n",
       "  </tbody>\n",
       "</table>\n",
       "<p>86 rows × 2 columns</p>\n",
       "</div>"
      ],
      "text/plain": [
       "                                            name  playtime_forever\n",
       "20                                      Terraria             12234\n",
       "64                                       Celeste              3202\n",
       "34                             Knytt Underground              2310\n",
       "58                System Shock: Enhanced Edition              1695\n",
       "3                                    Psychonauts              1688\n",
       "..                                           ...               ...\n",
       "50               Devil May Cry 4 Special Edition                 0\n",
       "51                                     Firewatch                 0\n",
       "52                      Ori and the Blind Forest                 0\n",
       "53  Ori and the Blind Forest: Definitive Edition                 0\n",
       "85                                Knockout City™                 0\n",
       "\n",
       "[86 rows x 2 columns]"
      ]
     },
     "execution_count": 55,
     "metadata": {},
     "output_type": "execute_result"
    }
   ],
   "source": [
    "order = games.sort_values('playtime_forever', ascending=False)\n",
    "gameOrder = order.drop(columns = ['appid', 'img_icon_url', 'playtime_windows_forever', 'playtime_mac_forever', 'playtime_linux_forever', 'rtime_last_played', 'has_community_visible_stats', 'has_leaderboards', 'playtime_2weeks'])\n",
    "gameOrder"
   ]
  },
  {
   "cell_type": "markdown",
   "id": "eddefbd2",
   "metadata": {},
   "source": [
    "I decided to experiment by creating different types of plots for my data frame to see which ones could be the most suitable for my analysis. The first plot I made is a histogram, and it shows that I have a lot of games in my library with 0 playtime. This indicates that I have way more games in my Steam library that I have not played yet than there are games that I have played."
   ]
  },
  {
   "cell_type": "code",
   "execution_count": 56,
   "id": "2147dc01",
   "metadata": {},
   "outputs": [
    {
     "data": {
      "image/png": "[encoded data removed]",
      "text/plain": [
       "<Figure size 432x288 with 1 Axes>"
      ]
     },
     "metadata": {
      "needs_background": "light"
     },
     "output_type": "display_data"
    }
   ],
   "source": [
    "gameOrder['playtime_forever'].plot.hist()\n",
    "plt.xlabel('Playtime')\n",
    "plt.ylabel('Games')\n",
    "plt.show()"
   ]
  },
  {
   "cell_type": "markdown",
   "id": "d01670fa",
   "metadata": {},
   "source": [
    "The next plot I made is a bar graph and I decided to only show the first 20 entries as well as rotate the graph sideways so that you can read each title horizontally. As you can see, while there are plenty of games that I've played on Steam, Terraria is the game where I've put far more hours into my playtime than any other game in my library. What I would like to figure out now is how I can make a bar graph that shows one bar representing my unplayed games and another bar showing the games I've actually played."
   ]
  },
  {
   "cell_type": "code",
   "execution_count": 57,
   "id": "5cc38079",
   "metadata": {},
   "outputs": [
    {
     "data": {
      "image/png": "[encoded data removed]",
      "text/plain": [
       "<Figure size 432x288 with 1 Axes>"
      ]
     },
     "metadata": {
      "needs_background": "light"
     },
     "output_type": "display_data"
    }
   ],
   "source": [
    "gameOrder.head(n=20).plot.barh(y='playtime_forever', x='name')\n",
    "plt.xlabel('Playtime')\n",
    "plt.ylabel('Games')\n",
    "plt.show()"
   ]
  },
  {
   "cell_type": "markdown",
   "id": "ce61aa66",
   "metadata": {},
   "source": [
    "Out of curiosity, I decided to make a box and whisker plot out of my data frame just to see what it would look like. I may decide to remove this plot from my final report because of the large empty space inside this box plot. This is a really large gap between two of my most played games, but this plot doesn't seem very necessary to use for my final analysis."
   ]
  },
  {
   "cell_type": "code",
   "execution_count": 58,
   "id": "70f1d272",
   "metadata": {},
   "outputs": [
    {
     "data": {
      "image/png": "[encoded data removed]",
      "text/plain": [
       "<Figure size 432x720 with 1 Axes>"
      ]
     },
     "metadata": {
      "needs_background": "light"
     },
     "output_type": "display_data"
    }
   ],
   "source": [
    "fig1, ax1 = plt.subplots()\n",
    "ax1.boxplot(gameOrder['playtime_forever'])\n",
    "fig1.set_figheight(10)"
   ]
  },
  {
   "cell_type": "markdown",
   "id": "1c87dbf1",
   "metadata": {},
   "source": [
    "The last plot I made is a pie chart and I think this might have the most potential in my final analysis. As of right now, it only shows the playtime for each game in my library, but nothing is labeled in the chart, so I will have to work on that in my final report. Just like the bar graph, I would also like to figure out how I can make the pie chart only display one piece showing my unplayed games and another piece showing my played games."
   ]
  },
  {
   "cell_type": "code",
   "execution_count": 59,
   "id": "a84768e1",
   "metadata": {},
   "outputs": [
    {
     "data": {
      "image/png": "[encoded data removed]",
      "text/plain": [
       "<Figure size 432x288 with 1 Axes>"
      ]
     },
     "metadata": {},
     "output_type": "display_data"
    }
   ],
   "source": [
    "fig2, ax2 = plt.subplots()\n",
    "ax2.pie(gameOrder['playtime_forever'])\n",
    "plt.show()"
   ]
  },
  {
   "cell_type": "code",
   "execution_count": null,
   "id": "b348f493",
   "metadata": {},
   "outputs": [],
   "source": []
  }
 ],
 "metadata": {
  "kernelspec": {
   "display_name": "Python 3 (ipykernel)",
   "language": "python",
   "name": "python3"
  },
  "language_info": {
   "codemirror_mode": {
    "name": "ipython",
    "version": 3
   },
   "file_extension": ".py",
   "mimetype": "text/x-python",
   "name": "python",
   "nbconvert_exporter": "python",
   "pygments_lexer": "ipython3",
   "version": "3.10.4"
  }
 },
 "nbformat": 4,
 "nbformat_minor": 5
}
